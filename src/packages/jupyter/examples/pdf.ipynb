{
 "cells": [
  {
   "cell_type": "code",
   "execution_count": 10,
   "id": "6ead4e",
   "metadata": {
    "collapsed": false,
    "jupyter": {
    },
    "scrolled": true
   },
   "outputs": [
    {
     "data": {
      "application/pdf": "[encoded data removed]"
     },
     "execution_count": 10,
     "metadata": {
     },
     "output_type": "execute_result"
    }
   ],
   "source": [
    "from IPython.display import display\n",
    "from reportlab.pdfgen import canvas\n",
    "from reportlab.lib.pagesizes import letter\n",
    "from io import BytesIO\n",
    "\n",
    "def create_pdf():\n",
    "    buffer = BytesIO()\n",
    "    p = canvas.Canvas(buffer, pagesize=letter)\n",
    "    p.drawString(100, 500, \"Hello, World!\")\n",
    "    p.showPage()\n",
    "    p.save()\n",
    "    pdf = buffer.getvalue()\n",
    "    buffer.close()\n",
    "    return pdf\n",
    "\n",
    "pdf_data = create_pdf()\n",
    "display({'application/pdf': pdf_data}, raw=True)"
   ]
  },
  {
   "cell_type": "code",
   "execution_count": 0,
   "id": "896da4",
   "metadata": {
    "collapsed": false,
    "jupyter": {
     "outputs_hidden": false
    }
   },
   "outputs": [
   ],
   "source": [
   ]
  }
 ],
 "metadata": {
  "kernelspec": {
   "argv": [
    "/usr/bin/python3",
    "-m",
    "ipykernel",
    "--matplotlib=inline",
    "-c",
    "%config InlineBackend.figure_formats = set(['retina'])\nimport matplotlib; matplotlib.rcParams['figure.figsize'] = (12, 7)",
    "-f",
    "{connection_file}"
   ],
   "display_name": "Python 3 (Ubuntu Linux)",
   "env": {
   },
   "language": "python",
   "metadata": {
    "cocalc": {
     "description": "it is python",
     "priority": 10,
     "url": "https://python.org/"
    }
   },
   "name": "python3-ubuntu",
   "resource_dir": "/usr/local/share/jupyter/kernels/python3-ubuntu"
  },
  "language_info": {
   "codemirror_mode": {
    "name": "ipython",
    "version": 3
   },
   "file_extension": ".py",
   "mimetype": "text/x-python",
   "name": "python",
   "nbconvert_exporter": "python",
   "pygments_lexer": "ipython3",
   "version": "3.10.12"
  }
 },
 "nbformat": 4,
 "nbformat_minor": 4
}